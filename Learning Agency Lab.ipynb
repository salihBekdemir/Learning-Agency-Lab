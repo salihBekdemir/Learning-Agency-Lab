{
 "cells": [
  {
   "cell_type": "markdown",
   "metadata": {},
   "source": [
    "# Learning Agency Lab"
   ]
  },
  {
   "cell_type": "markdown",
   "metadata": {},
   "source": [
    "# In this lesson, we will predict the scores according to the texts written and analyze the data"
   ]
  },
  {
   "cell_type": "markdown",
   "metadata": {},
   "source": [
    "<a href='https://www.kaggle.com/c/learning-agency-lab-automated-essay-scoring-2/overview' target=_blank>You can find the data file here</a>"
   ]
  },
  {
   "cell_type": "markdown",
   "metadata": {},
   "source": [
    "<img src=https://www.forschung-und-lehre.de/fileadmin/user_upload/Rubriken/Lehre/2018/4-18/Pruefung_mauritius-images_Charlie-Newham_Alamy_9.C48137.jpg width='400'>"
   ]
  },
  {
   "cell_type": "code",
   "execution_count": 1,
   "metadata": {
    "execution": {
     "iopub.execute_input": "2024-05-20T13:36:42.031019Z",
     "iopub.status.busy": "2024-05-20T13:36:42.030375Z",
     "iopub.status.idle": "2024-05-20T13:36:57.151880Z",
     "shell.execute_reply": "2024-05-20T13:36:57.150291Z",
     "shell.execute_reply.started": "2024-05-20T13:36:42.030965Z"
    }
   },
   "outputs": [],
   "source": [
    "#pip install nltk"
   ]
  },
  {
   "cell_type": "code",
   "execution_count": 2,
   "metadata": {
    "execution": {
     "iopub.execute_input": "2024-05-20T13:36:57.154518Z",
     "iopub.status.busy": "2024-05-20T13:36:57.154091Z",
     "iopub.status.idle": "2024-05-20T13:36:58.664388Z",
     "shell.execute_reply": "2024-05-20T13:36:58.663281Z",
     "shell.execute_reply.started": "2024-05-20T13:36:57.154482Z"
    }
   },
   "outputs": [],
   "source": [
    "import pandas as pd\n",
    "import nltk\n",
    "import seaborn as sns\n",
    "import warnings\n",
    "warnings.filterwarnings('ignore')"
   ]
  },
  {
   "cell_type": "code",
   "execution_count": 3,
   "metadata": {
    "execution": {
     "iopub.execute_input": "2024-05-20T13:36:58.666307Z",
     "iopub.status.busy": "2024-05-20T13:36:58.665767Z",
     "iopub.status.idle": "2024-05-20T13:36:59.100114Z",
     "shell.execute_reply": "2024-05-20T13:36:59.098931Z",
     "shell.execute_reply.started": "2024-05-20T13:36:58.666275Z"
    }
   },
   "outputs": [],
   "source": [
    "df=pd.read_csv(\"/kaggle/input/learning-agency-lab-automated-essay-scoring-2/train.csv\", encoding='latin-1')"
   ]
  },
  {
   "cell_type": "code",
   "execution_count": 4,
   "metadata": {
    "execution": {
     "iopub.execute_input": "2024-05-20T13:36:59.103648Z",
     "iopub.status.busy": "2024-05-20T13:36:59.103147Z",
     "iopub.status.idle": "2024-05-20T13:36:59.119427Z",
     "shell.execute_reply": "2024-05-20T13:36:59.118136Z",
     "shell.execute_reply.started": "2024-05-20T13:36:59.103615Z"
    }
   },
   "outputs": [
    {
     "data": {
      "text/html": [
       "<div>\n",
       "<style scoped>\n",
       "    .dataframe tbody tr th:only-of-type {\n",
       "        vertical-align: middle;\n",
       "    }\n",
       "\n",
       "    .dataframe tbody tr th {\n",
       "        vertical-align: top;\n",
       "    }\n",
       "\n",
       "    .dataframe thead th {\n",
       "        text-align: right;\n",
       "    }\n",
       "</style>\n",
       "<table border=\"1\" class=\"dataframe\">\n",
       "  <thead>\n",
       "    <tr style=\"text-align: right;\">\n",
       "      <th></th>\n",
       "      <th>essay_id</th>\n",
       "      <th>full_text</th>\n",
       "      <th>score</th>\n",
       "    </tr>\n",
       "  </thead>\n",
       "  <tbody>\n",
       "    <tr>\n",
       "      <th>0</th>\n",
       "      <td>000d118</td>\n",
       "      <td>Many people have car where they live. The thin...</td>\n",
       "      <td>3</td>\n",
       "    </tr>\n",
       "    <tr>\n",
       "      <th>1</th>\n",
       "      <td>000fe60</td>\n",
       "      <td>I am a scientist at NASA that is discussing th...</td>\n",
       "      <td>3</td>\n",
       "    </tr>\n",
       "    <tr>\n",
       "      <th>2</th>\n",
       "      <td>001ab80</td>\n",
       "      <td>People always wish they had the same technolog...</td>\n",
       "      <td>4</td>\n",
       "    </tr>\n",
       "    <tr>\n",
       "      <th>3</th>\n",
       "      <td>001bdc0</td>\n",
       "      <td>We all heard about Venus, the planet without a...</td>\n",
       "      <td>4</td>\n",
       "    </tr>\n",
       "    <tr>\n",
       "      <th>4</th>\n",
       "      <td>002ba53</td>\n",
       "      <td>Dear, State Senator\\n\\nThis is a letter to arg...</td>\n",
       "      <td>3</td>\n",
       "    </tr>\n",
       "  </tbody>\n",
       "</table>\n",
       "</div>"
      ],
      "text/plain": [
       "  essay_id                                          full_text  score\n",
       "0  000d118  Many people have car where they live. The thin...      3\n",
       "1  000fe60  I am a scientist at NASA that is discussing th...      3\n",
       "2  001ab80  People always wish they had the same technolog...      4\n",
       "3  001bdc0  We all heard about Venus, the planet without a...      4\n",
       "4  002ba53  Dear, State Senator\\n\\nThis is a letter to arg...      3"
      ]
     },
     "execution_count": 4,
     "metadata": {},
     "output_type": "execute_result"
    }
   ],
   "source": [
    "df.head()"
   ]
  },
  {
   "cell_type": "code",
   "execution_count": 5,
   "metadata": {
    "execution": {
     "iopub.execute_input": "2024-05-20T13:36:59.121378Z",
     "iopub.status.busy": "2024-05-20T13:36:59.120805Z",
     "iopub.status.idle": "2024-05-20T13:36:59.412442Z",
     "shell.execute_reply": "2024-05-20T13:36:59.411193Z",
     "shell.execute_reply.started": "2024-05-20T13:36:59.121341Z"
    }
   },
   "outputs": [
    {
     "data": {
      "image/png": "[encoded data removed]",
      "text/plain": [
       "<Figure size 640x480 with 1 Axes>"
      ]
     },
     "metadata": {},
     "output_type": "display_data"
    }
   ],
   "source": [
    "sns.countplot(x=df['score']);"
   ]
  },
  {
   "cell_type": "code",
   "execution_count": 6,
   "metadata": {
    "execution": {
     "iopub.execute_input": "2024-05-20T13:36:59.414030Z",
     "iopub.status.busy": "2024-05-20T13:36:59.413698Z",
     "iopub.status.idle": "2024-05-20T13:36:59.420523Z",
     "shell.execute_reply": "2024-05-20T13:36:59.419263Z",
     "shell.execute_reply.started": "2024-05-20T13:36:59.414002Z"
    }
   },
   "outputs": [],
   "source": [
    "d={'1':0,'2':1,'3':2,'4':3,'5':4,'6':5}"
   ]
  },
  {
   "cell_type": "code",
   "execution_count": 7,
   "metadata": {
    "execution": {
     "iopub.execute_input": "2024-05-20T13:36:59.423263Z",
     "iopub.status.busy": "2024-05-20T13:36:59.422106Z",
     "iopub.status.idle": "2024-05-20T13:36:59.438869Z",
     "shell.execute_reply": "2024-05-20T13:36:59.437597Z",
     "shell.execute_reply.started": "2024-05-20T13:36:59.423223Z"
    }
   },
   "outputs": [],
   "source": [
    "df['score'] = df['score'].astype(str)"
   ]
  },
  {
   "cell_type": "code",
   "execution_count": 8,
   "metadata": {
    "execution": {
     "iopub.execute_input": "2024-05-20T13:36:59.440600Z",
     "iopub.status.busy": "2024-05-20T13:36:59.440241Z",
     "iopub.status.idle": "2024-05-20T13:36:59.445847Z",
     "shell.execute_reply": "2024-05-20T13:36:59.444600Z",
     "shell.execute_reply.started": "2024-05-20T13:36:59.440569Z"
    }
   },
   "outputs": [],
   "source": [
    "d = {str(k):v for k,v in d.items()}"
   ]
  },
  {
   "cell_type": "code",
   "execution_count": 9,
   "metadata": {
    "execution": {
     "iopub.execute_input": "2024-05-20T13:36:59.447532Z",
     "iopub.status.busy": "2024-05-20T13:36:59.447184Z",
     "iopub.status.idle": "2024-05-20T13:36:59.461592Z",
     "shell.execute_reply": "2024-05-20T13:36:59.460358Z",
     "shell.execute_reply.started": "2024-05-20T13:36:59.447502Z"
    }
   },
   "outputs": [],
   "source": [
    "df['score'] = df['score'].map(d)"
   ]
  },
  {
   "cell_type": "code",
   "execution_count": 10,
   "metadata": {
    "execution": {
     "iopub.execute_input": "2024-05-20T13:36:59.463704Z",
     "iopub.status.busy": "2024-05-20T13:36:59.463234Z",
     "iopub.status.idle": "2024-05-20T13:36:59.743890Z",
     "shell.execute_reply": "2024-05-20T13:36:59.742654Z",
     "shell.execute_reply.started": "2024-05-20T13:36:59.463661Z"
    }
   },
   "outputs": [
    {
     "data": {
      "image/png": "[encoded data removed]",
      "text/plain": [
       "<Figure size 640x480 with 1 Axes>"
      ]
     },
     "metadata": {},
     "output_type": "display_data"
    }
   ],
   "source": [
    "sns.countplot(x=df['score']);"
   ]
  },
  {
   "cell_type": "code",
   "execution_count": 11,
   "metadata": {
    "execution": {
     "iopub.execute_input": "2024-05-20T13:36:59.747469Z",
     "iopub.status.busy": "2024-05-20T13:36:59.747057Z",
     "iopub.status.idle": "2024-05-20T13:36:59.762954Z",
     "shell.execute_reply": "2024-05-20T13:36:59.761546Z",
     "shell.execute_reply.started": "2024-05-20T13:36:59.747435Z"
    }
   },
   "outputs": [
    {
     "data": {
      "text/plain": [
       "essay_id     0\n",
       "full_text    0\n",
       "score        0\n",
       "dtype: int64"
      ]
     },
     "execution_count": 11,
     "metadata": {},
     "output_type": "execute_result"
    }
   ],
   "source": [
    "df.isnull().sum()"
   ]
  },
  {
   "cell_type": "code",
   "execution_count": 12,
   "metadata": {
    "execution": {
     "iopub.execute_input": "2024-05-20T13:36:59.765355Z",
     "iopub.status.busy": "2024-05-20T13:36:59.764830Z",
     "iopub.status.idle": "2024-05-20T13:36:59.775535Z",
     "shell.execute_reply": "2024-05-20T13:36:59.774228Z",
     "shell.execute_reply.started": "2024-05-20T13:36:59.765311Z"
    }
   },
   "outputs": [
    {
     "data": {
      "text/plain": [
       "(17307, 3)"
      ]
     },
     "execution_count": 12,
     "metadata": {},
     "output_type": "execute_result"
    }
   ],
   "source": [
    "df.shape"
   ]
  },
  {
   "cell_type": "code",
   "execution_count": 13,
   "metadata": {
    "execution": {
     "iopub.execute_input": "2024-05-20T13:36:59.782774Z",
     "iopub.status.busy": "2024-05-20T13:36:59.782384Z",
     "iopub.status.idle": "2024-05-20T13:37:02.894322Z",
     "shell.execute_reply": "2024-05-20T13:37:02.893205Z",
     "shell.execute_reply.started": "2024-05-20T13:36:59.782742Z"
    }
   },
   "outputs": [],
   "source": [
    "df['full_text']=df['full_text'].str.lower()\n",
    "df['full_text']=df['full_text'].str.replace('[^\\w\\s]','',regex= True)\n",
    "df['full_text']=df['full_text'].str.replace('\\n','')\n",
    "df['full_text']=df['full_text'].str.replace('\\d+','', regex = True)\n",
    "df['full_text']=df['full_text'].str.replace('\\r','', regex = True)"
   ]
  },
  {
   "cell_type": "code",
   "execution_count": 14,
   "metadata": {
    "execution": {
     "iopub.execute_input": "2024-05-20T13:37:02.896789Z",
     "iopub.status.busy": "2024-05-20T13:37:02.895702Z",
     "iopub.status.idle": "2024-05-20T13:37:02.907882Z",
     "shell.execute_reply": "2024-05-20T13:37:02.906256Z",
     "shell.execute_reply.started": "2024-05-20T13:37:02.896749Z"
    }
   },
   "outputs": [
    {
     "data": {
      "text/plain": [
       "0        many people have car where they live the thing...\n",
       "1        i am a scientist at nasa that is discussing th...\n",
       "2        people always wish they had the same technolog...\n",
       "3        we all heard about venus the planet without al...\n",
       "4        dear state senatorthis is a letter to argue in...\n",
       "                               ...                        \n",
       "17302    the story  the challenge of exploing venus  is...\n",
       "17303    technology has changed a lot of ways that we l...\n",
       "17304    if you dont like sitting around all day than i...\n",
       "17305    in the challenge of exporing venus the author ...\n",
       "17306    venus is worthy place to study but dangerous t...\n",
       "Name: full_text, Length: 17307, dtype: object"
      ]
     },
     "execution_count": 14,
     "metadata": {},
     "output_type": "execute_result"
    }
   ],
   "source": [
    "df['full_text']"
   ]
  },
  {
   "cell_type": "code",
   "execution_count": 15,
   "metadata": {
    "execution": {
     "iopub.execute_input": "2024-05-20T13:37:02.911008Z",
     "iopub.status.busy": "2024-05-20T13:37:02.909512Z",
     "iopub.status.idle": "2024-05-20T13:37:02.937304Z",
     "shell.execute_reply": "2024-05-20T13:37:02.935944Z",
     "shell.execute_reply.started": "2024-05-20T13:37:02.910956Z"
    }
   },
   "outputs": [],
   "source": [
    "from wordcloud import WordCloud \n",
    "from wordcloud import STOPWORDS\n",
    "from PIL import Image\n",
    "import numpy as np"
   ]
  },
  {
   "cell_type": "code",
   "execution_count": 16,
   "metadata": {
    "execution": {
     "iopub.execute_input": "2024-05-20T13:37:02.939227Z",
     "iopub.status.busy": "2024-05-20T13:37:02.938636Z",
     "iopub.status.idle": "2024-05-20T13:37:02.945241Z",
     "shell.execute_reply": "2024-05-20T13:37:02.943899Z",
     "shell.execute_reply.started": "2024-05-20T13:37:02.939149Z"
    }
   },
   "outputs": [],
   "source": [
    "x=df['full_text']\n",
    "y=df['score']"
   ]
  },
  {
   "cell_type": "code",
   "execution_count": 17,
   "metadata": {
    "execution": {
     "iopub.execute_input": "2024-05-20T13:37:02.947366Z",
     "iopub.status.busy": "2024-05-20T13:37:02.946905Z",
     "iopub.status.idle": "2024-05-20T13:37:02.956401Z",
     "shell.execute_reply": "2024-05-20T13:37:02.955212Z",
     "shell.execute_reply.started": "2024-05-20T13:37:02.947321Z"
    }
   },
   "outputs": [],
   "source": [
    "from sklearn.metrics import accuracy_score\n",
    "from sklearn.model_selection import train_test_split"
   ]
  },
  {
   "cell_type": "code",
   "execution_count": 18,
   "metadata": {
    "execution": {
     "iopub.execute_input": "2024-05-20T13:37:02.958461Z",
     "iopub.status.busy": "2024-05-20T13:37:02.957958Z",
     "iopub.status.idle": "2024-05-20T13:37:03.006518Z",
     "shell.execute_reply": "2024-05-20T13:37:03.005258Z",
     "shell.execute_reply.started": "2024-05-20T13:37:02.958415Z"
    }
   },
   "outputs": [],
   "source": [
    "from sklearn.feature_extraction.text import CountVectorizer\n",
    "from textblob import TextBlob\n",
    "from nltk.stem import PorterStemmer\n",
    "pr=PorterStemmer()"
   ]
  },
  {
   "cell_type": "code",
   "execution_count": 19,
   "metadata": {
    "execution": {
     "iopub.execute_input": "2024-05-20T13:37:03.008133Z",
     "iopub.status.busy": "2024-05-20T13:37:03.007791Z",
     "iopub.status.idle": "2024-05-20T13:37:03.013915Z",
     "shell.execute_reply": "2024-05-20T13:37:03.012496Z",
     "shell.execute_reply.started": "2024-05-20T13:37:03.008105Z"
    }
   },
   "outputs": [],
   "source": [
    "def lemmafn(text):\n",
    "    words=TextBlob(text).words\n",
    "    return [pr.stem(word)for word in words]"
   ]
  },
  {
   "cell_type": "code",
   "execution_count": 20,
   "metadata": {
    "execution": {
     "iopub.execute_input": "2024-05-20T13:37:03.016526Z",
     "iopub.status.busy": "2024-05-20T13:37:03.015624Z",
     "iopub.status.idle": "2024-05-20T13:37:03.026660Z",
     "shell.execute_reply": "2024-05-20T13:37:03.025435Z",
     "shell.execute_reply.started": "2024-05-20T13:37:03.016490Z"
    }
   },
   "outputs": [],
   "source": [
    "vect=CountVectorizer(stop_words='english',ngram_range=(1,6),analyzer=lemmafn)"
   ]
  },
  {
   "cell_type": "code",
   "execution_count": 21,
   "metadata": {
    "execution": {
     "iopub.execute_input": "2024-05-20T13:37:03.028569Z",
     "iopub.status.busy": "2024-05-20T13:37:03.028096Z",
     "iopub.status.idle": "2024-05-20T13:42:04.578998Z",
     "shell.execute_reply": "2024-05-20T13:42:04.577772Z",
     "shell.execute_reply.started": "2024-05-20T13:37:03.028534Z"
    }
   },
   "outputs": [],
   "source": [
    "x=vect.fit_transform(x)"
   ]
  },
  {
   "cell_type": "code",
   "execution_count": 22,
   "metadata": {
    "execution": {
     "iopub.execute_input": "2024-05-20T13:42:04.580922Z",
     "iopub.status.busy": "2024-05-20T13:42:04.580570Z",
     "iopub.status.idle": "2024-05-20T13:42:08.699613Z",
     "shell.execute_reply": "2024-05-20T13:42:08.698278Z",
     "shell.execute_reply.started": "2024-05-20T13:42:04.580894Z"
    }
   },
   "outputs": [
    {
     "name": "stderr",
     "output_type": "stream",
     "text": [
      "2024-05-20 13:42:05.027109: E external/local_xla/xla/stream_executor/cuda/cuda_dnn.cc:9261] Unable to register cuDNN factory: Attempting to register factory for plugin cuDNN when one has already been registered\n",
      "2024-05-20 13:42:05.027210: E external/local_xla/xla/stream_executor/cuda/cuda_fft.cc:607] Unable to register cuFFT factory: Attempting to register factory for plugin cuFFT when one has already been registered\n",
      "2024-05-20 13:42:05.028868: E external/local_xla/xla/stream_executor/cuda/cuda_blas.cc:1515] Unable to register cuBLAS factory: Attempting to register factory for plugin cuBLAS when one has already been registered\n"
     ]
    }
   ],
   "source": [
    "import tensorflow as tf\n",
    "from tensorflow.keras.models import Sequential\n",
    "from tensorflow.keras.layers import Dense,Conv2D, InputLayer, Reshape, MaxPooling2D, Flatten,Dropout, BatchNormalization\n",
    "from keras.callbacks import EarlyStopping"
   ]
  },
  {
   "cell_type": "code",
   "execution_count": 23,
   "metadata": {
    "execution": {
     "iopub.execute_input": "2024-05-20T13:42:08.702650Z",
     "iopub.status.busy": "2024-05-20T13:42:08.701393Z",
     "iopub.status.idle": "2024-05-20T13:42:08.725531Z",
     "shell.execute_reply": "2024-05-20T13:42:08.724240Z",
     "shell.execute_reply.started": "2024-05-20T13:42:08.702600Z"
    }
   },
   "outputs": [],
   "source": [
    "x_train,x_test,y_train,y_test=train_test_split(x,y,test_size=.10,random_state=42)"
   ]
  },
  {
   "cell_type": "code",
   "execution_count": 24,
   "metadata": {
    "execution": {
     "iopub.execute_input": "2024-05-20T13:42:08.728043Z",
     "iopub.status.busy": "2024-05-20T13:42:08.727230Z",
     "iopub.status.idle": "2024-05-20T13:42:08.791184Z",
     "shell.execute_reply": "2024-05-20T13:42:08.789933Z",
     "shell.execute_reply.started": "2024-05-20T13:42:08.727994Z"
    }
   },
   "outputs": [],
   "source": [
    "model = Sequential()\n",
    "model.add(Dense(128,activation='relu'))\n",
    "model.add(Dense(64,activation='relu'))\n",
    "model.add(Dense(32,activation='relu'))\n",
    "model.add(Dropout(0.5))\n",
    "model.add(BatchNormalization())\n",
    "\n",
    "model.add(Dense(18,activation='relu'))\n",
    "model.add(Dense(6, activation='softmax'))\n",
    "\n",
    "model.compile(optimizer='adam',\n",
    "              loss=tf.keras.losses.SparseCategoricalCrossentropy(from_logits=True),\n",
    "              metrics=['accuracy'])"
   ]
  },
  {
   "cell_type": "code",
   "execution_count": 25,
   "metadata": {
    "execution": {
     "iopub.execute_input": "2024-05-20T13:42:08.792983Z",
     "iopub.status.busy": "2024-05-20T13:42:08.792628Z",
     "iopub.status.idle": "2024-05-20T14:13:26.307143Z",
     "shell.execute_reply": "2024-05-20T14:13:26.305452Z",
     "shell.execute_reply.started": "2024-05-20T13:42:08.792955Z"
    }
   },
   "outputs": [
    {
     "name": "stdout",
     "output_type": "stream",
     "text": [
      "Epoch 1/30\n",
      "\u001b[1m487/487\u001b[0m \u001b[32m━━━━━━━━━━━━━━━━━━━━\u001b[0m\u001b[37m\u001b[0m \u001b[1m58s\u001b[0m 112ms/step - accuracy: 0.3430 - loss: 1.6024 - val_accuracy: 0.5084 - val_loss: 1.1160\n",
      "Epoch 2/30\n",
      "\u001b[1m487/487\u001b[0m \u001b[32m━━━━━━━━━━━━━━━━━━━━\u001b[0m\u001b[37m\u001b[0m \u001b[1m53s\u001b[0m 110ms/step - accuracy: 0.5744 - loss: 1.0339 - val_accuracy: 0.5765 - val_loss: 1.0681\n",
      "Epoch 3/30\n",
      "\u001b[1m487/487\u001b[0m \u001b[32m━━━━━━━━━━━━━━━━━━━━\u001b[0m\u001b[37m\u001b[0m \u001b[1m82s\u001b[0m 110ms/step - accuracy: 0.6631 - loss: 0.8519 - val_accuracy: 0.5690 - val_loss: 1.0330\n",
      "Epoch 4/30\n",
      "\u001b[1m487/487\u001b[0m \u001b[32m━━━━━━━━━━━━━━━━━━━━\u001b[0m\u001b[37m\u001b[0m \u001b[1m56s\u001b[0m 114ms/step - accuracy: 0.7055 - loss: 0.7434 - val_accuracy: 0.5661 - val_loss: 1.0752\n",
      "Epoch 5/30\n",
      "\u001b[1m487/487\u001b[0m \u001b[32m━━━━━━━━━━━━━━━━━━━━\u001b[0m\u001b[37m\u001b[0m \u001b[1m54s\u001b[0m 111ms/step - accuracy: 0.7538 - loss: 0.6448 - val_accuracy: 0.5621 - val_loss: 1.1161\n",
      "Epoch 6/30\n",
      "\u001b[1m487/487\u001b[0m \u001b[32m━━━━━━━━━━━━━━━━━━━━\u001b[0m\u001b[37m\u001b[0m \u001b[1m54s\u001b[0m 111ms/step - accuracy: 0.8030 - loss: 0.5272 - val_accuracy: 0.5708 - val_loss: 1.2231\n",
      "Epoch 7/30\n",
      "\u001b[1m487/487\u001b[0m \u001b[32m━━━━━━━━━━━━━━━━━━━━\u001b[0m\u001b[37m\u001b[0m \u001b[1m54s\u001b[0m 111ms/step - accuracy: 0.8301 - loss: 0.4631 - val_accuracy: 0.5569 - val_loss: 1.3849\n",
      "Epoch 8/30\n",
      "\u001b[1m487/487\u001b[0m \u001b[32m━━━━━━━━━━━━━━━━━━━━\u001b[0m\u001b[37m\u001b[0m \u001b[1m54s\u001b[0m 110ms/step - accuracy: 0.8544 - loss: 0.4080 - val_accuracy: 0.5737 - val_loss: 1.3713\n",
      "Epoch 9/30\n",
      "\u001b[1m487/487\u001b[0m \u001b[32m━━━━━━━━━━━━━━━━━━━━\u001b[0m\u001b[37m\u001b[0m \u001b[1m54s\u001b[0m 111ms/step - accuracy: 0.8728 - loss: 0.3618 - val_accuracy: 0.5586 - val_loss: 1.5567\n",
      "Epoch 10/30\n",
      "\u001b[1m487/487\u001b[0m \u001b[32m━━━━━━━━━━━━━━━━━━━━\u001b[0m\u001b[37m\u001b[0m \u001b[1m54s\u001b[0m 112ms/step - accuracy: 0.8900 - loss: 0.3183 - val_accuracy: 0.5656 - val_loss: 1.5312\n",
      "Epoch 11/30\n",
      "\u001b[1m487/487\u001b[0m \u001b[32m━━━━━━━━━━━━━━━━━━━━\u001b[0m\u001b[37m\u001b[0m \u001b[1m82s\u001b[0m 113ms/step - accuracy: 0.8966 - loss: 0.3112 - val_accuracy: 0.5638 - val_loss: 1.5575\n",
      "Epoch 12/30\n",
      "\u001b[1m487/487\u001b[0m \u001b[32m━━━━━━━━━━━━━━━━━━━━\u001b[0m\u001b[37m\u001b[0m \u001b[1m85s\u001b[0m 119ms/step - accuracy: 0.9118 - loss: 0.2681 - val_accuracy: 0.5621 - val_loss: 1.5978\n",
      "Epoch 13/30\n",
      "\u001b[1m487/487\u001b[0m \u001b[32m━━━━━━━━━━━━━━━━━━━━\u001b[0m\u001b[37m\u001b[0m \u001b[1m57s\u001b[0m 117ms/step - accuracy: 0.9141 - loss: 0.2532 - val_accuracy: 0.5615 - val_loss: 1.8750\n",
      "Epoch 14/30\n",
      "\u001b[1m487/487\u001b[0m \u001b[32m━━━━━━━━━━━━━━━━━━━━\u001b[0m\u001b[37m\u001b[0m \u001b[1m57s\u001b[0m 118ms/step - accuracy: 0.9182 - loss: 0.2395 - val_accuracy: 0.5656 - val_loss: 1.8170\n",
      "Epoch 15/30\n",
      "\u001b[1m487/487\u001b[0m \u001b[32m━━━━━━━━━━━━━━━━━━━━\u001b[0m\u001b[37m\u001b[0m \u001b[1m56s\u001b[0m 114ms/step - accuracy: 0.9210 - loss: 0.2369 - val_accuracy: 0.5609 - val_loss: 1.9102\n",
      "Epoch 16/30\n",
      "\u001b[1m487/487\u001b[0m \u001b[32m━━━━━━━━━━━━━━━━━━━━\u001b[0m\u001b[37m\u001b[0m \u001b[1m56s\u001b[0m 114ms/step - accuracy: 0.9350 - loss: 0.2003 - val_accuracy: 0.5719 - val_loss: 1.6694\n",
      "Epoch 17/30\n",
      "\u001b[1m487/487\u001b[0m \u001b[32m━━━━━━━━━━━━━━━━━━━━\u001b[0m\u001b[37m\u001b[0m \u001b[1m57s\u001b[0m 118ms/step - accuracy: 0.9274 - loss: 0.2219 - val_accuracy: 0.5794 - val_loss: 1.7528\n",
      "Epoch 18/30\n",
      "\u001b[1m487/487\u001b[0m \u001b[32m━━━━━━━━━━━━━━━━━━━━\u001b[0m\u001b[37m\u001b[0m \u001b[1m81s\u001b[0m 116ms/step - accuracy: 0.9363 - loss: 0.1932 - val_accuracy: 0.5725 - val_loss: 1.8511\n",
      "Epoch 19/30\n",
      "\u001b[1m487/487\u001b[0m \u001b[32m━━━━━━━━━━━━━━━━━━━━\u001b[0m\u001b[37m\u001b[0m \u001b[1m56s\u001b[0m 115ms/step - accuracy: 0.9470 - loss: 0.1735 - val_accuracy: 0.5644 - val_loss: 1.8791\n",
      "Epoch 20/30\n",
      "\u001b[1m487/487\u001b[0m \u001b[32m━━━━━━━━━━━━━━━━━━━━\u001b[0m\u001b[37m\u001b[0m \u001b[1m55s\u001b[0m 114ms/step - accuracy: 0.9389 - loss: 0.1888 - val_accuracy: 0.5563 - val_loss: 1.9184\n",
      "Epoch 21/30\n",
      "\u001b[1m487/487\u001b[0m \u001b[32m━━━━━━━━━━━━━━━━━━━━\u001b[0m\u001b[37m\u001b[0m \u001b[1m82s\u001b[0m 114ms/step - accuracy: 0.9442 - loss: 0.1797 - val_accuracy: 0.5419 - val_loss: 2.3860\n",
      "Epoch 22/30\n",
      "\u001b[1m487/487\u001b[0m \u001b[32m━━━━━━━━━━━━━━━━━━━━\u001b[0m\u001b[37m\u001b[0m \u001b[1m55s\u001b[0m 113ms/step - accuracy: 0.9558 - loss: 0.1412 - val_accuracy: 0.5546 - val_loss: 2.0465\n",
      "Epoch 23/30\n",
      "\u001b[1m487/487\u001b[0m \u001b[32m━━━━━━━━━━━━━━━━━━━━\u001b[0m\u001b[37m\u001b[0m \u001b[1m55s\u001b[0m 114ms/step - accuracy: 0.9579 - loss: 0.1437 - val_accuracy: 0.5702 - val_loss: 2.0855\n",
      "Epoch 24/30\n",
      "\u001b[1m487/487\u001b[0m \u001b[32m━━━━━━━━━━━━━━━━━━━━\u001b[0m\u001b[37m\u001b[0m \u001b[1m82s\u001b[0m 114ms/step - accuracy: 0.9554 - loss: 0.1484 - val_accuracy: 0.5552 - val_loss: 1.9758\n",
      "Epoch 25/30\n",
      "\u001b[1m487/487\u001b[0m \u001b[32m━━━━━━━━━━━━━━━━━━━━\u001b[0m\u001b[37m\u001b[0m \u001b[1m55s\u001b[0m 113ms/step - accuracy: 0.9491 - loss: 0.1581 - val_accuracy: 0.5667 - val_loss: 2.1427\n",
      "Epoch 26/30\n",
      "\u001b[1m487/487\u001b[0m \u001b[32m━━━━━━━━━━━━━━━━━━━━\u001b[0m\u001b[37m\u001b[0m \u001b[1m55s\u001b[0m 114ms/step - accuracy: 0.9637 - loss: 0.1200 - val_accuracy: 0.5575 - val_loss: 2.2927\n",
      "Epoch 27/30\n",
      "\u001b[1m487/487\u001b[0m \u001b[32m━━━━━━━━━━━━━━━━━━━━\u001b[0m\u001b[37m\u001b[0m \u001b[1m55s\u001b[0m 114ms/step - accuracy: 0.9614 - loss: 0.1319 - val_accuracy: 0.5667 - val_loss: 2.0662\n",
      "Epoch 28/30\n",
      "\u001b[1m487/487\u001b[0m \u001b[32m━━━━━━━━━━━━━━━━━━━━\u001b[0m\u001b[37m\u001b[0m \u001b[1m55s\u001b[0m 114ms/step - accuracy: 0.9562 - loss: 0.1409 - val_accuracy: 0.5563 - val_loss: 1.9316\n",
      "Epoch 29/30\n",
      "\u001b[1m487/487\u001b[0m \u001b[32m━━━━━━━━━━━━━━━━━━━━\u001b[0m\u001b[37m\u001b[0m \u001b[1m55s\u001b[0m 114ms/step - accuracy: 0.9581 - loss: 0.1379 - val_accuracy: 0.5442 - val_loss: 2.1964\n",
      "Epoch 30/30\n",
      "\u001b[1m487/487\u001b[0m \u001b[32m━━━━━━━━━━━━━━━━━━━━\u001b[0m\u001b[37m\u001b[0m \u001b[1m83s\u001b[0m 115ms/step - accuracy: 0.9638 - loss: 0.1132 - val_accuracy: 0.5459 - val_loss: 2.3495\n"
     ]
    }
   ],
   "source": [
    "\n",
    "history = model.fit(x_train, y_train, validation_data=(x_test, y_test), epochs=30, verbose=1)"
   ]
  },
  {
   "cell_type": "code",
   "execution_count": 26,
   "metadata": {
    "execution": {
     "iopub.execute_input": "2024-05-20T14:13:26.310859Z",
     "iopub.status.busy": "2024-05-20T14:13:26.310383Z",
     "iopub.status.idle": "2024-05-20T14:13:26.725847Z",
     "shell.execute_reply": "2024-05-20T14:13:26.724800Z",
     "shell.execute_reply.started": "2024-05-20T14:13:26.310814Z"
    }
   },
   "outputs": [
    {
     "name": "stdout",
     "output_type": "stream",
     "text": [
      "\u001b[1m55/55\u001b[0m \u001b[32m━━━━━━━━━━━━━━━━━━━━\u001b[0m\u001b[37m\u001b[0m \u001b[1m0s\u001b[0m 3ms/step - accuracy: 0.5466 - loss: 2.2916\n"
     ]
    }
   ],
   "source": [
    "loss,accuracy=model.evaluate(x_test,y_test)"
   ]
  },
  {
   "cell_type": "code",
   "execution_count": 27,
   "metadata": {
    "execution": {
     "iopub.execute_input": "2024-05-20T14:13:26.729752Z",
     "iopub.status.busy": "2024-05-20T14:13:26.729318Z",
     "iopub.status.idle": "2024-05-20T14:13:26.736574Z",
     "shell.execute_reply": "2024-05-20T14:13:26.735468Z",
     "shell.execute_reply.started": "2024-05-20T14:13:26.729718Z"
    }
   },
   "outputs": [
    {
     "data": {
      "text/plain": [
       "0.5459272265434265"
      ]
     },
     "execution_count": 27,
     "metadata": {},
     "output_type": "execute_result"
    }
   ],
   "source": [
    "accuracy"
   ]
  },
  {
   "cell_type": "code",
   "execution_count": 28,
   "metadata": {
    "execution": {
     "iopub.execute_input": "2024-05-20T14:13:26.738541Z",
     "iopub.status.busy": "2024-05-20T14:13:26.738216Z",
     "iopub.status.idle": "2024-05-20T14:13:27.576796Z",
     "shell.execute_reply": "2024-05-20T14:13:27.575599Z",
     "shell.execute_reply.started": "2024-05-20T14:13:26.738514Z"
    }
   },
   "outputs": [
    {
     "name": "stdout",
     "output_type": "stream",
     "text": [
      "\u001b[1m55/55\u001b[0m \u001b[32m━━━━━━━━━━━━━━━━━━━━\u001b[0m\u001b[37m\u001b[0m \u001b[1m1s\u001b[0m 6ms/step\n"
     ]
    }
   ],
   "source": [
    "tahmin=model.predict(x_test)"
   ]
  },
  {
   "cell_type": "code",
   "execution_count": 29,
   "metadata": {
    "execution": {
     "iopub.execute_input": "2024-05-20T14:13:27.580704Z",
     "iopub.status.busy": "2024-05-20T14:13:27.580282Z",
     "iopub.status.idle": "2024-05-20T14:13:27.585948Z",
     "shell.execute_reply": "2024-05-20T14:13:27.584891Z",
     "shell.execute_reply.started": "2024-05-20T14:13:27.580668Z"
    }
   },
   "outputs": [],
   "source": [
    "import matplotlib.pyplot as plt"
   ]
  },
  {
   "cell_type": "code",
   "execution_count": 30,
   "metadata": {
    "execution": {
     "iopub.execute_input": "2024-05-20T14:13:27.587918Z",
     "iopub.status.busy": "2024-05-20T14:13:27.587474Z",
     "iopub.status.idle": "2024-05-20T14:13:27.923727Z",
     "shell.execute_reply": "2024-05-20T14:13:27.922454Z",
     "shell.execute_reply.started": "2024-05-20T14:13:27.587882Z"
    }
   },
   "outputs": [
    {
     "data": {
      "text/plain": [
       "<matplotlib.legend.Legend at 0x78c794640a60>"
      ]
     },
     "execution_count": 30,
     "metadata": {},
     "output_type": "execute_result"
    },
    {
     "data": {
      "image/png": "[encoded data removed]",
      "text/plain": [
       "<Figure size 640x480 with 1 Axes>"
      ]
     },
     "metadata": {},
     "output_type": "display_data"
    }
   ],
   "source": [
    "plt.plot(history.history['accuracy'],label='Accuracy')\n",
    "plt.plot(history.history['val_accuracy'],label='Val_Accuracy')\n",
    "plt.legend()"
   ]
  },
  {
   "cell_type": "code",
   "execution_count": 31,
   "metadata": {
    "execution": {
     "iopub.execute_input": "2024-05-20T14:13:27.925710Z",
     "iopub.status.busy": "2024-05-20T14:13:27.925256Z",
     "iopub.status.idle": "2024-05-20T14:13:28.283452Z",
     "shell.execute_reply": "2024-05-20T14:13:28.282191Z",
     "shell.execute_reply.started": "2024-05-20T14:13:27.925678Z"
    }
   },
   "outputs": [
    {
     "data": {
      "text/plain": [
       "<Axes: >"
      ]
     },
     "execution_count": 31,
     "metadata": {},
     "output_type": "execute_result"
    },
    {
     "data": {
      "image/png": "[encoded data removed]",
      "text/plain": [
       "<Figure size 640x480 with 1 Axes>"
      ]
     },
     "metadata": {},
     "output_type": "display_data"
    }
   ],
   "source": [
    "loss_f=pd.DataFrame(history.history)\n",
    "loss_f.plot()"
   ]
  },
  {
   "cell_type": "code",
   "execution_count": 32,
   "metadata": {
    "execution": {
     "iopub.execute_input": "2024-05-20T14:13:28.286637Z",
     "iopub.status.busy": "2024-05-20T14:13:28.285341Z",
     "iopub.status.idle": "2024-05-20T14:13:28.292698Z",
     "shell.execute_reply": "2024-05-20T14:13:28.291414Z",
     "shell.execute_reply.started": "2024-05-20T14:13:28.286597Z"
    }
   },
   "outputs": [],
   "source": [
    "from sklearn.metrics import accuracy_score, confusion_matrix,classification_report"
   ]
  },
  {
   "cell_type": "code",
   "execution_count": 33,
   "metadata": {
    "execution": {
     "iopub.execute_input": "2024-05-20T14:13:28.294430Z",
     "iopub.status.busy": "2024-05-20T14:13:28.293956Z",
     "iopub.status.idle": "2024-05-20T14:13:28.304414Z",
     "shell.execute_reply": "2024-05-20T14:13:28.303240Z",
     "shell.execute_reply.started": "2024-05-20T14:13:28.294388Z"
    }
   },
   "outputs": [],
   "source": [
    "import numpy as np"
   ]
  },
  {
   "cell_type": "code",
   "execution_count": 34,
   "metadata": {
    "execution": {
     "iopub.execute_input": "2024-05-20T14:13:28.306655Z",
     "iopub.status.busy": "2024-05-20T14:13:28.305578Z",
     "iopub.status.idle": "2024-05-20T14:13:28.319104Z",
     "shell.execute_reply": "2024-05-20T14:13:28.317692Z",
     "shell.execute_reply.started": "2024-05-20T14:13:28.306618Z"
    }
   },
   "outputs": [
    {
     "data": {
      "text/plain": [
       "array([[ 47,  72,   9,   1,   0,   0],\n",
       "       [ 17, 301, 136,   8,   0,   1],\n",
       "       [ 10, 149, 394,  91,   1,   0],\n",
       "       [  1,   8, 173, 183,  12,   0],\n",
       "       [  0,   0,  10,  70,  20,   0],\n",
       "       [  0,   0,   1,  10,   6,   0]])"
      ]
     },
     "execution_count": 34,
     "metadata": {},
     "output_type": "execute_result"
    }
   ],
   "source": [
    "confusion_matrix(y_test, np.argmax(tahmin, axis=1))"
   ]
  },
  {
   "cell_type": "code",
   "execution_count": 35,
   "metadata": {
    "execution": {
     "iopub.execute_input": "2024-05-20T14:13:28.322158Z",
     "iopub.status.busy": "2024-05-20T14:13:28.320919Z",
     "iopub.status.idle": "2024-05-20T14:13:28.329584Z",
     "shell.execute_reply": "2024-05-20T14:13:28.328118Z",
     "shell.execute_reply.started": "2024-05-20T14:13:28.322102Z"
    }
   },
   "outputs": [],
   "source": [
    "cm=confusion_matrix(y_test, np.argmax(tahmin, axis=1))"
   ]
  },
  {
   "cell_type": "code",
   "execution_count": 36,
   "metadata": {
    "execution": {
     "iopub.execute_input": "2024-05-20T14:13:28.332480Z",
     "iopub.status.busy": "2024-05-20T14:13:28.331359Z",
     "iopub.status.idle": "2024-05-20T14:13:28.722707Z",
     "shell.execute_reply": "2024-05-20T14:13:28.721275Z",
     "shell.execute_reply.started": "2024-05-20T14:13:28.332431Z"
    }
   },
   "outputs": [
    {
     "data": {
      "image/png": "[encoded data removed]",
      "text/plain": [
       "<Figure size 640x480 with 2 Axes>"
      ]
     },
     "metadata": {},
     "output_type": "display_data"
    }
   ],
   "source": [
    "from sklearn.metrics import confusion_matrix\n",
    "\n",
    "sns.heatmap(confusion_matrix(y_test, np.argmax(tahmin, axis=1)), annot=False);"
   ]
  },
  {
   "cell_type": "code",
   "execution_count": 37,
   "metadata": {
    "execution": {
     "iopub.execute_input": "2024-05-20T14:13:28.725054Z",
     "iopub.status.busy": "2024-05-20T14:13:28.724464Z",
     "iopub.status.idle": "2024-05-20T14:13:28.744532Z",
     "shell.execute_reply": "2024-05-20T14:13:28.743338Z",
     "shell.execute_reply.started": "2024-05-20T14:13:28.725014Z"
    }
   },
   "outputs": [
    {
     "name": "stdout",
     "output_type": "stream",
     "text": [
      "              precision    recall  f1-score   support\n",
      "\n",
      "           0       0.63      0.36      0.46       129\n",
      "           1       0.57      0.65      0.61       463\n",
      "           2       0.54      0.61      0.58       645\n",
      "           3       0.50      0.49      0.49       377\n",
      "           4       0.51      0.20      0.29       100\n",
      "           5       0.00      0.00      0.00        17\n",
      "\n",
      "    accuracy                           0.55      1731\n",
      "   macro avg       0.46      0.39      0.40      1731\n",
      "weighted avg       0.54      0.55      0.54      1731\n",
      "\n"
     ]
    }
   ],
   "source": [
    "print(classification_report(y_test, np.argmax(tahmin, axis=1)))"
   ]
  },
  {
   "cell_type": "markdown",
   "metadata": {},
   "source": [
    "# We could not achieve good accuracy in this data, but using such a model to do better and give scores in lessons will be very useful for teachers"
   ]
  },
  {
   "cell_type": "markdown",
   "metadata": {},
   "source": [
    "### [Click for more of my data analysis](https://github.com/salihBekdemir)"
   ]
  }
 ],
 "metadata": {
  "kaggle": {
   "accelerator": "none",
   "dataSources": [
    {
     "databundleVersionId": 8059942,
     "sourceId": 71485,
     "sourceType": "competition"
    }
   ],
   "dockerImageVersionId": 30698,
   "isGpuEnabled": false,
   "isInternetEnabled": true,
   "language": "python",
   "sourceType": "notebook"
  },
  "kernelspec": {
   "display_name": "Python 3 (ipykernel)",
   "language": "python",
   "name": "python3"
  },
  "language_info": {
   "codemirror_mode": {
    "name": "ipython",
    "version": 3
   },
   "file_extension": ".py",
   "mimetype": "text/x-python",
   "name": "python",
   "nbconvert_exporter": "python",
   "pygments_lexer": "ipython3",
   "version": "3.11.7"
  }
 },
 "nbformat": 4,
 "nbformat_minor": 4
}
